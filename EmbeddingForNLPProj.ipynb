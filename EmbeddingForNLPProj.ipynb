{
  "nbformat": 4,
  "nbformat_minor": 0,
  "metadata": {
    "colab": {
      "name": "EmbeddingForNLPProj.ipynb",
      "provenance": [],
      "collapsed_sections": [],
      "toc_visible": true
    },
    "kernelspec": {
      "name": "python3",
      "display_name": "Python 3"
    },
    "accelerator": "GPU"
  },
  "cells": [
    {
      "cell_type": "markdown",
      "metadata": {
        "id": "uqhDgTlXHsVy",
        "colab_type": "text"
      },
      "source": [
        "## Installs and Imports"
      ]
    },
    {
      "cell_type": "code",
      "metadata": {
        "id": "I482z50Kv0VB",
        "colab_type": "code",
        "outputId": "cb0b908d-3962-4dcd-8911-4dcd300483bd",
        "colab": {
          "base_uri": "https://localhost:8080/",
          "height": 51
        }
      },
      "source": [
        "# !pip install sentencepiece\n",
        "# !pip install tf_sentencepiece"
      ],
      "execution_count": 0,
      "outputs": [
        {
          "output_type": "stream",
          "text": [
            "Requirement already satisfied: sentencepiece in /usr/local/lib/python3.6/dist-packages (0.1.83)\n",
            "Requirement already satisfied: tf_sentencepiece in /usr/local/lib/python3.6/dist-packages (0.1.83)\n"
          ],
          "name": "stdout"
        }
      ]
    },
    {
      "cell_type": "code",
      "metadata": {
        "id": "LgFQqi15xPFU",
        "colab_type": "code",
        "outputId": "0e47cfc4-976c-418a-a7cd-fa817d0b3355",
        "colab": {
          "base_uri": "https://localhost:8080/",
          "height": 68
        }
      },
      "source": [
        "!pip uninstall --quiet --yes tensorflow\n",
        "!pip install --quiet tensorflow-gpu==1.13.1"
      ],
      "execution_count": 0,
      "outputs": [
        {
          "output_type": "stream",
          "text": [
            "\u001b[K     |████████████████████████████████| 345.2MB 49kB/s \n",
            "\u001b[K     |████████████████████████████████| 3.2MB 35.9MB/s \n",
            "\u001b[K     |████████████████████████████████| 368kB 45.8MB/s \n",
            "\u001b[?25h"
          ],
          "name": "stdout"
        }
      ]
    },
    {
      "cell_type": "code",
      "metadata": {
        "id": "i_cQinRDxSds",
        "colab_type": "code",
        "outputId": "7d5639b4-809b-4d77-e964-97be78d7a535",
        "colab": {
          "base_uri": "https://localhost:8080/",
          "height": 34
        }
      },
      "source": [
        "!pip install --quiet tf-sentencepiece"
      ],
      "execution_count": 0,
      "outputs": [
        {
          "output_type": "stream",
          "text": [
            "\u001b[K     |████████████████████████████████| 2.7MB 2.7MB/s \n",
            "\u001b[?25h"
          ],
          "name": "stdout"
        }
      ]
    },
    {
      "cell_type": "code",
      "metadata": {
        "id": "d0oLxp6dv3Zb",
        "colab_type": "code",
        "outputId": "e91217d8-667c-48ed-9755-e0f6293bfd04",
        "colab": {
          "base_uri": "https://localhost:8080/",
          "height": 80
        }
      },
      "source": [
        "import tensorflow as tf\n",
        "import tensorflow_hub as hub\n",
        "import numpy as np\n",
        "import pandas as pd\n",
        "import sklearn\n",
        "import pickle\n",
        "from sklearn.svm import SVC\n",
        "from sklearn import svm\n",
        "from sklearn.linear_model import SGDClassifier\n",
        "from sklearn.neural_network import MLPClassifier\n",
        "from sklearn.metrics import confusion_matrix"
      ],
      "execution_count": 0,
      "outputs": [
        {
          "output_type": "display_data",
          "data": {
            "text/html": [
              "<p style=\"color: red;\">\n",
              "The default version of TensorFlow in Colab will soon switch to TensorFlow 2.x.<br>\n",
              "We recommend you <a href=\"https://www.tensorflow.org/guide/migrate\" target=\"_blank\">upgrade</a> now \n",
              "or ensure your notebook will continue to use TensorFlow 1.x via the <code>%tensorflow_version 1.x</code> magic:\n",
              "<a href=\"https://colab.research.google.com/notebooks/tensorflow_version.ipynb\" target=\"_blank\">more info</a>.</p>\n"
            ],
            "text/plain": [
              "<IPython.core.display.HTML object>"
            ]
          },
          "metadata": {
            "tags": []
          }
        }
      ]
    },
    {
      "cell_type": "code",
      "metadata": {
        "id": "07HfpOAbnJIM",
        "colab_type": "code",
        "colab": {}
      },
      "source": [
        "import tf_sentencepiece"
      ],
      "execution_count": 0,
      "outputs": []
    },
    {
      "cell_type": "markdown",
      "metadata": {
        "id": "3pSLhu3GHoVL",
        "colab_type": "text"
      },
      "source": [
        "## Data"
      ]
    },
    {
      "cell_type": "code",
      "metadata": {
        "id": "aRMjde-t2keE",
        "colab_type": "code",
        "colab": {}
      },
      "source": [
        "df = pd.read_csv('data/UTDallasCSV.csv')\n",
        "df2 = pd.read_csv('data/WinogradChallengeCSV.csv')"
      ],
      "execution_count": 0,
      "outputs": []
    },
    {
      "cell_type": "code",
      "metadata": {
        "id": "6iuwj04P21Ur",
        "colab_type": "code",
        "colab": {}
      },
      "source": [
        "def delBogus(df):\n",
        "  delInd = []\n",
        "  for i, r in df.iterrows():\n",
        "    if(i%2 != 0):\n",
        "      delInd.append(i)\n",
        "\n",
        "  df = df.drop(index = delInd, axis = 0)\n",
        "  return df"
      ],
      "execution_count": 0,
      "outputs": []
    },
    {
      "cell_type": "code",
      "metadata": {
        "id": "7w-DOItp3rVm",
        "colab_type": "code",
        "colab": {}
      },
      "source": [
        "df = delBogus(df)\n",
        "df2 = delBogus(df2)"
      ],
      "execution_count": 0,
      "outputs": []
    },
    {
      "cell_type": "code",
      "metadata": {
        "id": "gHdztHnk3tSP",
        "colab_type": "code",
        "outputId": "ec388800-e153-4790-f0ec-dd0b01c2188d",
        "colab": {
          "base_uri": "https://localhost:8080/",
          "height": 459
        }
      },
      "source": [
        "df2.head()"
      ],
      "execution_count": 0,
      "outputs": [
        {
          "output_type": "execute_result",
          "data": {
            "text/html": [
              "<div>\n",
              "<style scoped>\n",
              "    .dataframe tbody tr th:only-of-type {\n",
              "        vertical-align: middle;\n",
              "    }\n",
              "\n",
              "    .dataframe tbody tr th {\n",
              "        vertical-align: top;\n",
              "    }\n",
              "\n",
              "    .dataframe thead th {\n",
              "        text-align: right;\n",
              "    }\n",
              "</style>\n",
              "<table border=\"1\" class=\"dataframe\">\n",
              "  <thead>\n",
              "    <tr style=\"text-align: right;\">\n",
              "      <th></th>\n",
              "      <th>Knowledge Base</th>\n",
              "      <th>Question</th>\n",
              "      <th>Option 1</th>\n",
              "      <th>Option 2</th>\n",
              "      <th>Actual Answer</th>\n",
              "      <th>Bit Representation</th>\n",
              "      <th>Opt1</th>\n",
              "      <th>Opt2</th>\n",
              "    </tr>\n",
              "  </thead>\n",
              "  <tbody>\n",
              "    <tr>\n",
              "      <th>0</th>\n",
              "      <td>city councilmen refused demonstrators a permit...</td>\n",
              "      <td>what does they refer to?</td>\n",
              "      <td>they refers to city councilmen</td>\n",
              "      <td>they refers to demonstrators</td>\n",
              "      <td>city councilmen</td>\n",
              "      <td>0</td>\n",
              "      <td>city councilmen</td>\n",
              "      <td>demonstrators</td>\n",
              "    </tr>\n",
              "    <tr>\n",
              "      <th>2</th>\n",
              "      <td>city councilmen refused demonstrators a permit...</td>\n",
              "      <td>what does they refer to?</td>\n",
              "      <td>they refers to city councilmen</td>\n",
              "      <td>they refers to demonstrators</td>\n",
              "      <td>demonstrators</td>\n",
              "      <td>1</td>\n",
              "      <td>city councilmen</td>\n",
              "      <td>demonstrators</td>\n",
              "    </tr>\n",
              "    <tr>\n",
              "      <th>4</th>\n",
              "      <td>trophy doesn't fit into brown suitcase because...</td>\n",
              "      <td>what does it refer to?</td>\n",
              "      <td>it refers to trophy</td>\n",
              "      <td>it refers to suitcase</td>\n",
              "      <td>trophy</td>\n",
              "      <td>0</td>\n",
              "      <td>trophy</td>\n",
              "      <td>suitcase</td>\n",
              "    </tr>\n",
              "    <tr>\n",
              "      <th>6</th>\n",
              "      <td>trophy doesn't fit into brown suitcase because...</td>\n",
              "      <td>what does it refer to?</td>\n",
              "      <td>it refers to trophy</td>\n",
              "      <td>it refers to suitcase</td>\n",
              "      <td>suitcase</td>\n",
              "      <td>1</td>\n",
              "      <td>trophy</td>\n",
              "      <td>suitcase</td>\n",
              "    </tr>\n",
              "    <tr>\n",
              "      <th>8</th>\n",
              "      <td>joan made sure to thank susan for all help she...</td>\n",
              "      <td>what does she refer to?</td>\n",
              "      <td>she refers to joan</td>\n",
              "      <td>she refers to susan</td>\n",
              "      <td>joan</td>\n",
              "      <td>0</td>\n",
              "      <td>joan</td>\n",
              "      <td>susan</td>\n",
              "    </tr>\n",
              "  </tbody>\n",
              "</table>\n",
              "</div>"
            ],
            "text/plain": [
              "                                      Knowledge Base  ...            Opt2\n",
              "0  city councilmen refused demonstrators a permit...  ...  demonstrators \n",
              "2  city councilmen refused demonstrators a permit...  ...  demonstrators \n",
              "4  trophy doesn't fit into brown suitcase because...  ...       suitcase \n",
              "6  trophy doesn't fit into brown suitcase because...  ...       suitcase \n",
              "8  joan made sure to thank susan for all help she...  ...          susan \n",
              "\n",
              "[5 rows x 8 columns]"
            ]
          },
          "metadata": {
            "tags": []
          },
          "execution_count": 10
        }
      ]
    },
    {
      "cell_type": "code",
      "metadata": {
        "id": "_SkOE668AhWz",
        "colab_type": "code",
        "colab": {}
      },
      "source": [
        "def renameCols(df):\n",
        "  df.columns = ['KB', 'Question', 'Option1', 'Option2', 'AA', 'Label']\n",
        "  return df"
      ],
      "execution_count": 0,
      "outputs": []
    },
    {
      "cell_type": "code",
      "metadata": {
        "id": "EheoEkDVCeL9",
        "colab_type": "code",
        "outputId": "eed3d418-7539-47a3-a7ca-9badf7d8ceab",
        "colab": {
          "base_uri": "https://localhost:8080/",
          "height": 378
        }
      },
      "source": [
        "df = renameCols(df)\n",
        "df2 = renameCols(df2)"
      ],
      "execution_count": 0,
      "outputs": [
        {
          "output_type": "error",
          "ename": "ValueError",
          "evalue": "ignored",
          "traceback": [
            "\u001b[0;31m---------------------------------------------------------------------------\u001b[0m",
            "\u001b[0;31mValueError\u001b[0m                                Traceback (most recent call last)",
            "\u001b[0;32m<ipython-input-12-2278d50ea44e>\u001b[0m in \u001b[0;36m<module>\u001b[0;34m()\u001b[0m\n\u001b[0;32m----> 1\u001b[0;31m \u001b[0mdf\u001b[0m \u001b[0;34m=\u001b[0m \u001b[0mrenameCols\u001b[0m\u001b[0;34m(\u001b[0m\u001b[0mdf\u001b[0m\u001b[0;34m)\u001b[0m\u001b[0;34m\u001b[0m\u001b[0;34m\u001b[0m\u001b[0m\n\u001b[0m\u001b[1;32m      2\u001b[0m \u001b[0mdf2\u001b[0m \u001b[0;34m=\u001b[0m \u001b[0mrenameCols\u001b[0m\u001b[0;34m(\u001b[0m\u001b[0mdf2\u001b[0m\u001b[0;34m)\u001b[0m\u001b[0;34m\u001b[0m\u001b[0;34m\u001b[0m\u001b[0m\n",
            "\u001b[0;32m<ipython-input-11-1933eaa6e111>\u001b[0m in \u001b[0;36mrenameCols\u001b[0;34m(df)\u001b[0m\n\u001b[1;32m      1\u001b[0m \u001b[0;32mdef\u001b[0m \u001b[0mrenameCols\u001b[0m\u001b[0;34m(\u001b[0m\u001b[0mdf\u001b[0m\u001b[0;34m)\u001b[0m\u001b[0;34m:\u001b[0m\u001b[0;34m\u001b[0m\u001b[0;34m\u001b[0m\u001b[0m\n\u001b[0;32m----> 2\u001b[0;31m   \u001b[0mdf\u001b[0m\u001b[0;34m.\u001b[0m\u001b[0mcolumns\u001b[0m \u001b[0;34m=\u001b[0m \u001b[0;34m[\u001b[0m\u001b[0;34m'KB'\u001b[0m\u001b[0;34m,\u001b[0m \u001b[0;34m'Question'\u001b[0m\u001b[0;34m,\u001b[0m \u001b[0;34m'Option1'\u001b[0m\u001b[0;34m,\u001b[0m \u001b[0;34m'Option2'\u001b[0m\u001b[0;34m,\u001b[0m \u001b[0;34m'AA'\u001b[0m\u001b[0;34m,\u001b[0m \u001b[0;34m'Label'\u001b[0m\u001b[0;34m]\u001b[0m\u001b[0;34m\u001b[0m\u001b[0;34m\u001b[0m\u001b[0m\n\u001b[0m\u001b[1;32m      3\u001b[0m   \u001b[0;32mreturn\u001b[0m \u001b[0mdf\u001b[0m\u001b[0;34m\u001b[0m\u001b[0;34m\u001b[0m\u001b[0m\n",
            "\u001b[0;32m/usr/local/lib/python3.6/dist-packages/pandas/core/generic.py\u001b[0m in \u001b[0;36m__setattr__\u001b[0;34m(self, name, value)\u001b[0m\n\u001b[1;32m   5190\u001b[0m         \u001b[0;32mtry\u001b[0m\u001b[0;34m:\u001b[0m\u001b[0;34m\u001b[0m\u001b[0;34m\u001b[0m\u001b[0m\n\u001b[1;32m   5191\u001b[0m             \u001b[0mobject\u001b[0m\u001b[0;34m.\u001b[0m\u001b[0m__getattribute__\u001b[0m\u001b[0;34m(\u001b[0m\u001b[0mself\u001b[0m\u001b[0;34m,\u001b[0m \u001b[0mname\u001b[0m\u001b[0;34m)\u001b[0m\u001b[0;34m\u001b[0m\u001b[0;34m\u001b[0m\u001b[0m\n\u001b[0;32m-> 5192\u001b[0;31m             \u001b[0;32mreturn\u001b[0m \u001b[0mobject\u001b[0m\u001b[0;34m.\u001b[0m\u001b[0m__setattr__\u001b[0m\u001b[0;34m(\u001b[0m\u001b[0mself\u001b[0m\u001b[0;34m,\u001b[0m \u001b[0mname\u001b[0m\u001b[0;34m,\u001b[0m \u001b[0mvalue\u001b[0m\u001b[0;34m)\u001b[0m\u001b[0;34m\u001b[0m\u001b[0;34m\u001b[0m\u001b[0m\n\u001b[0m\u001b[1;32m   5193\u001b[0m         \u001b[0;32mexcept\u001b[0m \u001b[0mAttributeError\u001b[0m\u001b[0;34m:\u001b[0m\u001b[0;34m\u001b[0m\u001b[0;34m\u001b[0m\u001b[0m\n\u001b[1;32m   5194\u001b[0m             \u001b[0;32mpass\u001b[0m\u001b[0;34m\u001b[0m\u001b[0;34m\u001b[0m\u001b[0m\n",
            "\u001b[0;32mpandas/_libs/properties.pyx\u001b[0m in \u001b[0;36mpandas._libs.properties.AxisProperty.__set__\u001b[0;34m()\u001b[0m\n",
            "\u001b[0;32m/usr/local/lib/python3.6/dist-packages/pandas/core/generic.py\u001b[0m in \u001b[0;36m_set_axis\u001b[0;34m(self, axis, labels)\u001b[0m\n\u001b[1;32m    688\u001b[0m \u001b[0;34m\u001b[0m\u001b[0m\n\u001b[1;32m    689\u001b[0m     \u001b[0;32mdef\u001b[0m \u001b[0m_set_axis\u001b[0m\u001b[0;34m(\u001b[0m\u001b[0mself\u001b[0m\u001b[0;34m,\u001b[0m \u001b[0maxis\u001b[0m\u001b[0;34m,\u001b[0m \u001b[0mlabels\u001b[0m\u001b[0;34m)\u001b[0m\u001b[0;34m:\u001b[0m\u001b[0;34m\u001b[0m\u001b[0;34m\u001b[0m\u001b[0m\n\u001b[0;32m--> 690\u001b[0;31m         \u001b[0mself\u001b[0m\u001b[0;34m.\u001b[0m\u001b[0m_data\u001b[0m\u001b[0;34m.\u001b[0m\u001b[0mset_axis\u001b[0m\u001b[0;34m(\u001b[0m\u001b[0maxis\u001b[0m\u001b[0;34m,\u001b[0m \u001b[0mlabels\u001b[0m\u001b[0;34m)\u001b[0m\u001b[0;34m\u001b[0m\u001b[0;34m\u001b[0m\u001b[0m\n\u001b[0m\u001b[1;32m    691\u001b[0m         \u001b[0mself\u001b[0m\u001b[0;34m.\u001b[0m\u001b[0m_clear_item_cache\u001b[0m\u001b[0;34m(\u001b[0m\u001b[0;34m)\u001b[0m\u001b[0;34m\u001b[0m\u001b[0;34m\u001b[0m\u001b[0m\n\u001b[1;32m    692\u001b[0m \u001b[0;34m\u001b[0m\u001b[0m\n",
            "\u001b[0;32m/usr/local/lib/python3.6/dist-packages/pandas/core/internals/managers.py\u001b[0m in \u001b[0;36mset_axis\u001b[0;34m(self, axis, new_labels)\u001b[0m\n\u001b[1;32m    181\u001b[0m             raise ValueError(\n\u001b[1;32m    182\u001b[0m                 \u001b[0;34m\"Length mismatch: Expected axis has {old} elements, new \"\u001b[0m\u001b[0;34m\u001b[0m\u001b[0;34m\u001b[0m\u001b[0m\n\u001b[0;32m--> 183\u001b[0;31m                 \u001b[0;34m\"values have {new} elements\"\u001b[0m\u001b[0;34m.\u001b[0m\u001b[0mformat\u001b[0m\u001b[0;34m(\u001b[0m\u001b[0mold\u001b[0m\u001b[0;34m=\u001b[0m\u001b[0mold_len\u001b[0m\u001b[0;34m,\u001b[0m \u001b[0mnew\u001b[0m\u001b[0;34m=\u001b[0m\u001b[0mnew_len\u001b[0m\u001b[0;34m)\u001b[0m\u001b[0;34m\u001b[0m\u001b[0;34m\u001b[0m\u001b[0m\n\u001b[0m\u001b[1;32m    184\u001b[0m             )\n\u001b[1;32m    185\u001b[0m \u001b[0;34m\u001b[0m\u001b[0m\n",
            "\u001b[0;31mValueError\u001b[0m: Length mismatch: Expected axis has 8 elements, new values have 6 elements"
          ]
        }
      ]
    },
    {
      "cell_type": "code",
      "metadata": {
        "id": "olhclGlYnxc7",
        "colab_type": "code",
        "colab": {}
      },
      "source": [
        "# Generating input for embeddings\n",
        "def genEmbedInput(df):\n",
        "  questions = []\n",
        "  responses = []\n",
        "  response_contexts = []\n",
        "  kb = []\n",
        "  for i,r in df.iterrows():\n",
        "    questions.append(r.Question)\n",
        "    responses.append(r.Option1)\n",
        "    responses.append(r.Option2)\n",
        "    response_contexts.append(r.KB)\n",
        "    response_contexts.append(r.KB)\n",
        "    kb.append(r.KB)\n",
        "  return questions, responses, response_contexts, kb"
      ],
      "execution_count": 0,
      "outputs": []
    },
    {
      "cell_type": "code",
      "metadata": {
        "id": "7ynBjTxPWpnY",
        "colab_type": "code",
        "colab": {}
      },
      "source": [
        "def prepareInpData(df):\n",
        "  data = np.zeros((df.shape[0], 3*512))\n",
        "  # print(data.shape)\n",
        "  j = 0\n",
        "  for i, row in df.iterrows():\n",
        "    # print(i)\n",
        "    x = np.concatenate((row.KBE, row.QuestionE))\n",
        "    if(row.Label == 1):\n",
        "      x = np.concatenate((x, row.Option2E))\n",
        "    else:\n",
        "      x = np.concatenate((x, row.Option1E))\n",
        "    # print(i - 1)\n",
        "    data[j] = x\n",
        "    j += 1\n",
        "    \n",
        "  return data"
      ],
      "execution_count": 0,
      "outputs": []
    },
    {
      "cell_type": "markdown",
      "metadata": {
        "id": "RFB6oWQqD39E",
        "colab_type": "text"
      },
      "source": [
        "## Training"
      ]
    },
    {
      "cell_type": "code",
      "metadata": {
        "id": "lFUo195GDIdb",
        "colab_type": "code",
        "colab": {}
      },
      "source": [
        "questions, responses, response_contexts, kb = genEmbedInput(df)"
      ],
      "execution_count": 0,
      "outputs": []
    },
    {
      "cell_type": "code",
      "metadata": {
        "id": "y5h5RQESxvUg",
        "colab_type": "code",
        "outputId": "85ff0d5b-b77b-492e-f58b-2c6d6f458749",
        "colab": {
          "base_uri": "https://localhost:8080/",
          "height": 85
        }
      },
      "source": [
        "# Set up graph.\n",
        "g = tf.Graph()\n",
        "with g.as_default():\n",
        "  module = hub.Module('https://tfhub.dev/google/universal-sentence-encoder-multilingual-qa/1')\n",
        "  question_embeddings = module(dict(input=questions), signature=\"question_encoder\", as_dict=True)\n",
        "  response_embeddings = module(dict(input=responses, context=response_contexts), signature=\"response_encoder\", as_dict=True)\n",
        "  init_op = tf.group([tf.global_variables_initializer(), tf.tables_initializer()])\n",
        "\n",
        "g.finalize()\n"
      ],
      "execution_count": 0,
      "outputs": [
        {
          "output_type": "stream",
          "text": [
            "INFO:tensorflow:Saver not created because there are no variables in the graph to restore\n"
          ],
          "name": "stdout"
        },
        {
          "output_type": "stream",
          "text": [
            "INFO:tensorflow:Saver not created because there are no variables in the graph to restore\n"
          ],
          "name": "stderr"
        },
        {
          "output_type": "stream",
          "text": [
            "INFO:tensorflow:Saver not created because there are no variables in the graph to restore\n"
          ],
          "name": "stdout"
        },
        {
          "output_type": "stream",
          "text": [
            "INFO:tensorflow:Saver not created because there are no variables in the graph to restore\n"
          ],
          "name": "stderr"
        }
      ]
    },
    {
      "cell_type": "code",
      "metadata": {
        "id": "viPF5UgO6TsG",
        "colab_type": "code",
        "colab": {}
      },
      "source": [
        "# Initialize session.\n",
        "session = tf.Session(graph=g)\n",
        "session.run(init_op)\n",
        "\n",
        "# Compute embeddings.\n",
        "question_results = session.run(question_embeddings)\n",
        "response_results = session.run(response_embeddings)\n",
        "\n",
        "# print(np.inner(question_results[\"outputs\"], response_results[\"outputs\"]))"
      ],
      "execution_count": 0,
      "outputs": []
    },
    {
      "cell_type": "code",
      "metadata": {
        "id": "POZpYEJto58Q",
        "colab_type": "code",
        "colab": {}
      },
      "source": [
        "# len(response_results['outputs'])\n",
        "qe = []\n",
        "opt1e = []\n",
        "opt2e = []\n",
        "for i in range(len(question_results['outputs'])):\n",
        "  qe.append(question_results['outputs'][i])\n",
        "  opt1e.append(response_results['outputs'][(2*i)])\n",
        "  opt2e.append(response_results['outputs'][(2*i)+1])"
      ],
      "execution_count": 0,
      "outputs": []
    },
    {
      "cell_type": "code",
      "metadata": {
        "id": "uzJDTLoFTbu_",
        "colab_type": "code",
        "colab": {}
      },
      "source": [
        "df['QuestionE'] = qe\n",
        "df['Option1E'] = opt1e\n",
        "df['Option2E'] = opt2e"
      ],
      "execution_count": 0,
      "outputs": []
    },
    {
      "cell_type": "code",
      "metadata": {
        "id": "0gr0IBKDUhTY",
        "colab_type": "code",
        "colab": {}
      },
      "source": [
        "embed = hub.Module(\"https://tfhub.dev/google/universal-sentence-encoder-large/3\")"
      ],
      "execution_count": 0,
      "outputs": []
    },
    {
      "cell_type": "code",
      "metadata": {
        "id": "guO7W-KqVlzy",
        "colab_type": "code",
        "outputId": "db85eba5-05f8-49a0-c509-591a455473d6",
        "colab": {
          "base_uri": "https://localhost:8080/",
          "height": 51
        }
      },
      "source": [
        "with tf.Session() as session:\n",
        "  session.run([tf.global_variables_initializer(), tf.tables_initializer()])\n",
        "  message_embeddings = session.run(embed(kb))"
      ],
      "execution_count": 0,
      "outputs": [
        {
          "output_type": "stream",
          "text": [
            "INFO:tensorflow:Saver not created because there are no variables in the graph to restore\n"
          ],
          "name": "stdout"
        },
        {
          "output_type": "stream",
          "text": [
            "INFO:tensorflow:Saver not created because there are no variables in the graph to restore\n"
          ],
          "name": "stderr"
        }
      ]
    },
    {
      "cell_type": "code",
      "metadata": {
        "id": "8D0GDDOGV4UF",
        "colab_type": "code",
        "colab": {}
      },
      "source": [
        "kbe = []\n",
        "for i in range(len(message_embeddings)):\n",
        "  kbe.append(message_embeddings[i])"
      ],
      "execution_count": 0,
      "outputs": []
    },
    {
      "cell_type": "code",
      "metadata": {
        "id": "MrXhU-soWMgl",
        "colab_type": "code",
        "colab": {}
      },
      "source": [
        "df['KBE'] = kbe"
      ],
      "execution_count": 0,
      "outputs": []
    },
    {
      "cell_type": "code",
      "metadata": {
        "id": "vsW5g7qBZd5k",
        "colab_type": "code",
        "outputId": "3cc68e38-f8ed-436a-de43-e0d0db1adc40",
        "colab": {
          "base_uri": "https://localhost:8080/",
          "height": 51
        }
      },
      "source": [
        "print(\"Number of Class-1: \" + str((df['Label']==1).sum(axis=0)))\n",
        "print(\"Number of Class-0: \" + str((df['Label']==0).sum(axis=0)))"
      ],
      "execution_count": 0,
      "outputs": [
        {
          "output_type": "stream",
          "text": [
            "Number of Class-1: 1322\n",
            "Number of Class-0: 1320\n"
          ],
          "name": "stdout"
        }
      ]
    },
    {
      "cell_type": "code",
      "metadata": {
        "id": "W5_vOi9_g36Q",
        "colab_type": "code",
        "outputId": "5df85b2f-2c15-4610-9b3d-c994269e961a",
        "colab": {
          "base_uri": "https://localhost:8080/",
          "height": 717
        }
      },
      "source": [
        "df.head()"
      ],
      "execution_count": 0,
      "outputs": [
        {
          "output_type": "execute_result",
          "data": {
            "text/html": [
              "<div>\n",
              "<style scoped>\n",
              "    .dataframe tbody tr th:only-of-type {\n",
              "        vertical-align: middle;\n",
              "    }\n",
              "\n",
              "    .dataframe tbody tr th {\n",
              "        vertical-align: top;\n",
              "    }\n",
              "\n",
              "    .dataframe thead th {\n",
              "        text-align: right;\n",
              "    }\n",
              "</style>\n",
              "<table border=\"1\" class=\"dataframe\">\n",
              "  <thead>\n",
              "    <tr style=\"text-align: right;\">\n",
              "      <th></th>\n",
              "      <th>KB</th>\n",
              "      <th>Question</th>\n",
              "      <th>Option1</th>\n",
              "      <th>Option2</th>\n",
              "      <th>AA</th>\n",
              "      <th>Label</th>\n",
              "      <th>QuestionE</th>\n",
              "      <th>Option1E</th>\n",
              "      <th>Option2E</th>\n",
              "      <th>KBE</th>\n",
              "    </tr>\n",
              "  </thead>\n",
              "  <tbody>\n",
              "    <tr>\n",
              "      <th>0</th>\n",
              "      <td>bee landed on flower because it had pollen.</td>\n",
              "      <td>what does it refer to?</td>\n",
              "      <td>it refers to bee</td>\n",
              "      <td>it refers to flower</td>\n",
              "      <td>flower</td>\n",
              "      <td>1</td>\n",
              "      <td>[0.03676931, -0.030496405, -0.0513505, -0.0062...</td>\n",
              "      <td>[-0.005842374, -0.002963165, 0.018208452, 0.01...</td>\n",
              "      <td>[-0.041813824, 0.03193633, -0.023663007, -0.01...</td>\n",
              "      <td>[0.04859948, -0.00012089022, 0.05877012, 0.030...</td>\n",
              "    </tr>\n",
              "    <tr>\n",
              "      <th>1</th>\n",
              "      <td>bee landed on flower because it had pollen.</td>\n",
              "      <td>what had pollen?</td>\n",
              "      <td>bee had pollen</td>\n",
              "      <td>flower had pollen</td>\n",
              "      <td>flower</td>\n",
              "      <td>1</td>\n",
              "      <td>[0.012102967, 0.03984652, -0.013288025, -0.003...</td>\n",
              "      <td>[-0.018822478, 0.048073266, 0.06687331, -0.028...</td>\n",
              "      <td>[-0.026243063, 0.05944981, 0.037827123, -0.049...</td>\n",
              "      <td>[0.04859948, -0.00012089022, 0.05877012, 0.030...</td>\n",
              "    </tr>\n",
              "    <tr>\n",
              "      <th>2</th>\n",
              "      <td>bee landed on flower because it wanted pollen.</td>\n",
              "      <td>what does it refer to?</td>\n",
              "      <td>it refers to bee</td>\n",
              "      <td>it refers to flower</td>\n",
              "      <td>bee</td>\n",
              "      <td>0</td>\n",
              "      <td>[0.036769304, -0.030496396, -0.051350504, -0.0...</td>\n",
              "      <td>[-0.005053184, -0.0064505856, 0.020013489, 0.0...</td>\n",
              "      <td>[-0.04075606, 0.029278206, -0.02004551, -0.023...</td>\n",
              "      <td>[0.05312615, -0.0060285414, 0.061304126, 0.025...</td>\n",
              "    </tr>\n",
              "    <tr>\n",
              "      <th>3</th>\n",
              "      <td>bee landed on flower because it wanted pollen.</td>\n",
              "      <td>what wanted pollen?</td>\n",
              "      <td>bee wanted pollen</td>\n",
              "      <td>flower wanted pollen</td>\n",
              "      <td>bee</td>\n",
              "      <td>0</td>\n",
              "      <td>[0.014923883, 0.03446279, -0.031669125, 0.0117...</td>\n",
              "      <td>[0.002110022, 0.04931997, 0.017973281, -0.0026...</td>\n",
              "      <td>[0.0032249072, 0.062103763, -0.021100633, -0.0...</td>\n",
              "      <td>[0.05312615, -0.0060285414, 0.061304126, 0.025...</td>\n",
              "    </tr>\n",
              "    <tr>\n",
              "      <th>4</th>\n",
              "      <td>when debbie splashed tina, she got in trouble.</td>\n",
              "      <td>what does she refer to?</td>\n",
              "      <td>she refers to debbie</td>\n",
              "      <td>she refers to tina</td>\n",
              "      <td>debbie</td>\n",
              "      <td>0</td>\n",
              "      <td>[0.023011189, -0.019143254, -0.03604531, -0.01...</td>\n",
              "      <td>[0.007943569, 0.035678472, -0.013393052, -0.00...</td>\n",
              "      <td>[0.010381961, 0.053909026, 0.0076449844, 0.001...</td>\n",
              "      <td>[-0.036982954, -0.013073404, -0.041511405, 0.0...</td>\n",
              "    </tr>\n",
              "  </tbody>\n",
              "</table>\n",
              "</div>"
            ],
            "text/plain": [
              "                                                KB  ...                                                KBE\n",
              "0     bee landed on flower because it had pollen.   ...  [0.04859948, -0.00012089022, 0.05877012, 0.030...\n",
              "1     bee landed on flower because it had pollen.   ...  [0.04859948, -0.00012089022, 0.05877012, 0.030...\n",
              "2  bee landed on flower because it wanted pollen.   ...  [0.05312615, -0.0060285414, 0.061304126, 0.025...\n",
              "3  bee landed on flower because it wanted pollen.   ...  [0.05312615, -0.0060285414, 0.061304126, 0.025...\n",
              "4  when debbie splashed tina, she got in trouble.   ...  [-0.036982954, -0.013073404, -0.041511405, 0.0...\n",
              "\n",
              "[5 rows x 10 columns]"
            ]
          },
          "metadata": {
            "tags": []
          },
          "execution_count": 279
        }
      ]
    },
    {
      "cell_type": "code",
      "metadata": {
        "id": "36Ge550Li1L2",
        "colab_type": "code",
        "colab": {}
      },
      "source": [
        "XTrain = prepareInpData(df)"
      ],
      "execution_count": 0,
      "outputs": []
    },
    {
      "cell_type": "code",
      "metadata": {
        "id": "YgrkpHDPi81_",
        "colab_type": "code",
        "colab": {}
      },
      "source": [
        "# XTrain.shape"
      ],
      "execution_count": 0,
      "outputs": []
    },
    {
      "cell_type": "code",
      "metadata": {
        "id": "A0l5yD8Gkvzj",
        "colab_type": "code",
        "colab": {}
      },
      "source": [
        "YTrain = df['Label']"
      ],
      "execution_count": 0,
      "outputs": []
    },
    {
      "cell_type": "markdown",
      "metadata": {
        "id": "-VMHgnPED8cO",
        "colab_type": "text"
      },
      "source": [
        "## Testing"
      ]
    },
    {
      "cell_type": "code",
      "metadata": {
        "id": "YjYccTn0EAWB",
        "colab_type": "code",
        "colab": {}
      },
      "source": [
        "questions, responses, response_contexts, kb = genEmbedInput(df2)"
      ],
      "execution_count": 0,
      "outputs": []
    },
    {
      "cell_type": "code",
      "metadata": {
        "id": "Pcl2B7t3EBKB",
        "colab_type": "code",
        "outputId": "7005c784-ebd1-4efd-9c1e-cfe0b1af4df5",
        "colab": {
          "base_uri": "https://localhost:8080/",
          "height": 85
        }
      },
      "source": [
        "# Set up graph.\n",
        "g = tf.Graph()\n",
        "with g.as_default():\n",
        "  module = hub.Module('https://tfhub.dev/google/universal-sentence-encoder-multilingual-qa/1')\n",
        "  question_embeddings = module(dict(input=questions), signature=\"question_encoder\", as_dict=True)\n",
        "  response_embeddings = module(dict(input=responses, context=response_contexts), signature=\"response_encoder\", as_dict=True)\n",
        "  init_op = tf.group([tf.global_variables_initializer(), tf.tables_initializer()])\n",
        "\n",
        "g.finalize()"
      ],
      "execution_count": 0,
      "outputs": [
        {
          "output_type": "stream",
          "text": [
            "INFO:tensorflow:Saver not created because there are no variables in the graph to restore\n"
          ],
          "name": "stdout"
        },
        {
          "output_type": "stream",
          "text": [
            "INFO:tensorflow:Saver not created because there are no variables in the graph to restore\n"
          ],
          "name": "stderr"
        },
        {
          "output_type": "stream",
          "text": [
            "INFO:tensorflow:Saver not created because there are no variables in the graph to restore\n"
          ],
          "name": "stdout"
        },
        {
          "output_type": "stream",
          "text": [
            "INFO:tensorflow:Saver not created because there are no variables in the graph to restore\n"
          ],
          "name": "stderr"
        }
      ]
    },
    {
      "cell_type": "code",
      "metadata": {
        "id": "8u0ZBU4EEGGF",
        "colab_type": "code",
        "colab": {}
      },
      "source": [
        "# Initialize session.\n",
        "session = tf.Session(graph=g)\n",
        "session.run(init_op)\n",
        "\n",
        "# Compute embeddings.\n",
        "question_results = session.run(question_embeddings)\n",
        "response_results = session.run(response_embeddings)\n",
        "\n",
        "# print(np.inner(question_results[\"outputs\"], response_results[\"outputs\"]))"
      ],
      "execution_count": 0,
      "outputs": []
    },
    {
      "cell_type": "code",
      "metadata": {
        "id": "aYheRARoEInS",
        "colab_type": "code",
        "colab": {}
      },
      "source": [
        "# len(response_results['outputs'])\n",
        "qe = []\n",
        "opt1e = []\n",
        "opt2e = []\n",
        "for i in range(len(question_results['outputs'])):\n",
        "  qe.append(question_results['outputs'][i])\n",
        "  opt1e.append(response_results['outputs'][(2*i)])\n",
        "  opt2e.append(response_results['outputs'][(2*i)+1])"
      ],
      "execution_count": 0,
      "outputs": []
    },
    {
      "cell_type": "code",
      "metadata": {
        "id": "ytnsm1QPEMKR",
        "colab_type": "code",
        "colab": {}
      },
      "source": [
        "df2['QuestionE'] = qe\n",
        "df2['Option1E'] = opt1e\n",
        "df2['Option2E'] = opt2e"
      ],
      "execution_count": 0,
      "outputs": []
    },
    {
      "cell_type": "code",
      "metadata": {
        "id": "rydrCvXZEPAH",
        "colab_type": "code",
        "colab": {}
      },
      "source": [
        "embed = hub.Module(\"https://tfhub.dev/google/universal-sentence-encoder-large/3\")"
      ],
      "execution_count": 0,
      "outputs": []
    },
    {
      "cell_type": "code",
      "metadata": {
        "id": "MclgLrW1ERsn",
        "colab_type": "code",
        "outputId": "f7adb0f6-edcf-49fb-e040-1c7b33279c24",
        "colab": {
          "base_uri": "https://localhost:8080/",
          "height": 51
        }
      },
      "source": [
        "with tf.Session() as session:\n",
        "  session.run([tf.global_variables_initializer(), tf.tables_initializer()])\n",
        "  message_embeddings = session.run(embed(kb))"
      ],
      "execution_count": 0,
      "outputs": [
        {
          "output_type": "stream",
          "text": [
            "INFO:tensorflow:Saver not created because there are no variables in the graph to restore\n"
          ],
          "name": "stdout"
        },
        {
          "output_type": "stream",
          "text": [
            "INFO:tensorflow:Saver not created because there are no variables in the graph to restore\n"
          ],
          "name": "stderr"
        }
      ]
    },
    {
      "cell_type": "code",
      "metadata": {
        "id": "0KQLAdljEUdl",
        "colab_type": "code",
        "colab": {}
      },
      "source": [
        "kbe = []\n",
        "for i in range(len(message_embeddings)):\n",
        "  kbe.append(message_embeddings[i])"
      ],
      "execution_count": 0,
      "outputs": []
    },
    {
      "cell_type": "code",
      "metadata": {
        "id": "hawSkIcKG5oX",
        "colab_type": "code",
        "colab": {}
      },
      "source": [
        "df2['KBE'] = kbe"
      ],
      "execution_count": 0,
      "outputs": []
    },
    {
      "cell_type": "code",
      "metadata": {
        "id": "wlKFfBYSF38i",
        "colab_type": "code",
        "outputId": "1c33a6e5-b8de-41a6-ca6a-12be4982f8c4",
        "colab": {
          "base_uri": "https://localhost:8080/",
          "height": 51
        }
      },
      "source": [
        "print(\"Number of Class-1: \" + str((df2['Label']==1).sum(axis=0)))\n",
        "print(\"Number of Class-0: \" + str((df2['Label']==0).sum(axis=0)))"
      ],
      "execution_count": 0,
      "outputs": [
        {
          "output_type": "stream",
          "text": [
            "Number of Class-1: 282\n",
            "Number of Class-0: 286\n"
          ],
          "name": "stdout"
        }
      ]
    },
    {
      "cell_type": "code",
      "metadata": {
        "id": "H5oC1jBVF6ge",
        "colab_type": "code",
        "colab": {}
      },
      "source": [
        "XTest = prepareInpData(df2)"
      ],
      "execution_count": 0,
      "outputs": []
    },
    {
      "cell_type": "code",
      "metadata": {
        "id": "deSoFEz0G_C9",
        "colab_type": "code",
        "colab": {}
      },
      "source": [
        "YTest = df2['Label']"
      ],
      "execution_count": 0,
      "outputs": []
    },
    {
      "cell_type": "markdown",
      "metadata": {
        "id": "PCxZcQ_fl9gI",
        "colab_type": "text"
      },
      "source": [
        "## Save and Load Data"
      ]
    },
    {
      "cell_type": "code",
      "metadata": {
        "id": "0ugJjgvKc2qP",
        "colab_type": "code",
        "colab": {}
      },
      "source": [
        "import tensorflow as tf\n",
        "import tensorflow_hub as hub\n",
        "import numpy as np\n",
        "import pandas as pd\n",
        "import sklearn\n",
        "import pickle\n",
        "from sklearn.svm import SVC\n",
        "from sklearn import svm\n",
        "from sklearn.linear_model import SGDClassifier\n",
        "from sklearn.neural_network import MLPClassifier\n",
        "from sklearn.metrics import confusion_matrix"
      ],
      "execution_count": 0,
      "outputs": []
    },
    {
      "cell_type": "code",
      "metadata": {
        "id": "FoMinV_3mApz",
        "colab_type": "code",
        "colab": {}
      },
      "source": [
        "# # Save Form-1\n",
        "# np.savetxt('data/XTrainForm1.csv', XTrain, delimiter = ',')\n",
        "# with open(\"data/YTrainForm1.pkl\", \"wb\") as fp:\n",
        "#   pickle.dump(YTrain, fp)\n",
        "\n",
        "# np.savetxt('data/XTestForm1.csv', XTest, delimiter = ',')\n",
        "# with open(\"data/YTestForm1.pkl\", \"wb\") as fp:\n",
        "#   pickle.dump(YTest, fp)"
      ],
      "execution_count": 0,
      "outputs": []
    },
    {
      "cell_type": "code",
      "metadata": {
        "id": "5i33QO_YnK3p",
        "colab_type": "code",
        "colab": {}
      },
      "source": [
        "# # Load Form-1\n",
        "XTrain = np.loadtxt('data/XTrainForm1.csv', delimiter = ',')\n",
        "XTest = np.loadtxt('data/XTestForm1.csv', delimiter = ',')\n",
        "with open(\"data/YTrainForm1.pkl\", \"rb\") as fp:\n",
        "  YTrain = pickle.load(fp)\n",
        "with open(\"data/YTestForm1.pkl\", \"rb\") as fp:\n",
        "  YTest = pickle.load(fp)"
      ],
      "execution_count": 0,
      "outputs": []
    },
    {
      "cell_type": "code",
      "metadata": {
        "id": "1qjU-KIcq6NL",
        "colab_type": "code",
        "colab": {}
      },
      "source": [
        "# # Save Form-2\n",
        "# np.savetxt('data/XTrainForm2.csv', XTrain, delimiter = ',')\n",
        "# with open(\"data/YTrainForm2.pkl\", \"wb\") as fp:\n",
        "#   pickle.dump(YTrain, fp)\n",
        "\n",
        "# np.savetxt('data/XTestForm2.csv', XTest, delimiter = ',')\n",
        "# with open(\"data/YTestForm2.pkl\", \"wb\") as fp:\n",
        "#   pickle.dump(YTest, fp)"
      ],
      "execution_count": 0,
      "outputs": []
    },
    {
      "cell_type": "code",
      "metadata": {
        "id": "5sxNAwaZq_3k",
        "colab_type": "code",
        "colab": {}
      },
      "source": [
        "# Load Form-2\n",
        "# XTrain = np.loadtxt('data/XTrainForm2.csv', delimiter = ',')\n",
        "# XTest = np.loadtxt('data/XTestForm2.csv', delimiter = ',')\n",
        "# with open(\"data/YTrainForm2.pkl\", \"rb\") as fp:\n",
        "#   YTrain = pickle.load(fp)\n",
        "# with open(\"data/YTestForm2.pkl\", \"rb\") as fp:\n",
        "#   YTest = pickle.load(fp)"
      ],
      "execution_count": 0,
      "outputs": []
    },
    {
      "cell_type": "code",
      "metadata": {
        "id": "hBm1U6uSrRQs",
        "colab_type": "code",
        "colab": {}
      },
      "source": [
        "# # Save Combined\n",
        "# np.savetxt('data/XTrainCombined.csv', XTrain, delimiter = ',')\n",
        "# with open(\"data/YTrainCombined.pkl\", \"wb\") as fp:\n",
        "#   pickle.dump(YTrain, fp)\n",
        "\n",
        "# np.savetxt('data/XTestCombined.csv', XTest, delimiter = ',')\n",
        "# with open(\"data/YTestCombined.pkl\", \"wb\") as fp:\n",
        "#   pickle.dump(YTest, fp)"
      ],
      "execution_count": 0,
      "outputs": []
    },
    {
      "cell_type": "code",
      "metadata": {
        "id": "9LBUJsxLrQgD",
        "colab_type": "code",
        "colab": {}
      },
      "source": [
        "# # Load Combined\n",
        "# XTrain = np.loadtxt('data/XTrainCombined.csv', delimiter = ',')\n",
        "# XTest = np.loadtxt('data/XTestCombined.csv', delimiter = ',')\n",
        "# with open(\"data/YTrainCombined.pkl\", \"rb\") as fp:\n",
        "#   YTrain = pickle.load(fp)\n",
        "# with open(\"data/YTestCombined.pkl\", \"rb\") as fp:\n",
        "#   YTest = pickle.load(fp)"
      ],
      "execution_count": 0,
      "outputs": []
    },
    {
      "cell_type": "markdown",
      "metadata": {
        "id": "UAj157ooSTfu",
        "colab_type": "text"
      },
      "source": [
        "## Model"
      ]
    },
    {
      "cell_type": "code",
      "metadata": {
        "id": "Y-sYZhqlkymz",
        "colab_type": "code",
        "outputId": "b8f3f309-8af4-4d77-9d85-bc9f526a56ee",
        "colab": {
          "base_uri": "https://localhost:8080/",
          "height": 34
        }
      },
      "source": [
        "# pCLF = MLPClassifier(max_iter=10000, alpha=0.01, warm_start=True)\n",
        "pCLF = MLPClassifier(max_iter= 10000, alpha=0.001, warm_start=True)\n",
        "_ = pCLF.fit(XTrain, YTrain)\n",
        "print('Training Complete')"
      ],
      "execution_count": 0,
      "outputs": [
        {
          "output_type": "stream",
          "text": [
            "Training Complete\n"
          ],
          "name": "stdout"
        }
      ]
    },
    {
      "cell_type": "code",
      "metadata": {
        "id": "KJ1fZO0GlRCi",
        "colab_type": "code",
        "colab": {}
      },
      "source": [
        "prediction_result = pCLF.predict(XTest)"
      ],
      "execution_count": 0,
      "outputs": []
    },
    {
      "cell_type": "code",
      "metadata": {
        "id": "1tJZ95sRlVDs",
        "colab_type": "code",
        "outputId": "0c9f1a36-6cd4-4488-82fb-14e4fddb5274",
        "colab": {
          "base_uri": "https://localhost:8080/",
          "height": 34
        }
      },
      "source": [
        "# Accuracy\n",
        "np.mean(prediction_result == YTest)"
      ],
      "execution_count": 0,
      "outputs": [
        {
          "output_type": "execute_result",
          "data": {
            "text/plain": [
              "0.6232394366197183"
            ]
          },
          "metadata": {
            "tags": []
          },
          "execution_count": 27
        }
      ]
    },
    {
      "cell_type": "code",
      "metadata": {
        "id": "IWabHiApLnJd",
        "colab_type": "code",
        "outputId": "3a3fd163-7d86-4f21-fe16-4ce07048a71c",
        "colab": {
          "base_uri": "https://localhost:8080/",
          "height": 51
        }
      },
      "source": [
        "cm = confusion_matrix(prediction_result, YTest)\n",
        "cm"
      ],
      "execution_count": 0,
      "outputs": [
        {
          "output_type": "execute_result",
          "data": {
            "text/plain": [
              "array([[84, 48],\n",
              "       [59, 93]])"
            ]
          },
          "metadata": {
            "tags": []
          },
          "execution_count": 28
        }
      ]
    },
    {
      "cell_type": "code",
      "metadata": {
        "id": "EIORQu5SxqQv",
        "colab_type": "code",
        "colab": {}
      },
      "source": [
        "# with open(\"data/bestPredTrain.pkl\", \"wb\") as fp:\n",
        "#   pickle.dump(prediction_result_train, fp)\n",
        "\n",
        "# with open(\"data/bestPredTrain.pkl\", \"rb\") as fp:\n",
        "#   pred = pickle.load(fp)"
      ],
      "execution_count": 0,
      "outputs": []
    },
    {
      "cell_type": "code",
      "metadata": {
        "id": "bC0Hy8-1YPp_",
        "colab_type": "code",
        "colab": {}
      },
      "source": [
        "with open(\"data/bestPred.pkl\", \"wb\") as fp:\n",
        "  pickle.dump(prediction_result, fp)\n",
        "\n",
        "with open(\"data/bestPred.pkl\", \"rb\") as fp:\n",
        "  pred = pickle.load(fp)"
      ],
      "execution_count": 0,
      "outputs": []
    },
    {
      "cell_type": "code",
      "metadata": {
        "id": "2RH0SfyplAJR",
        "colab_type": "code",
        "colab": {}
      },
      "source": [
        "# End"
      ],
      "execution_count": 0,
      "outputs": []
    }
  ]
}