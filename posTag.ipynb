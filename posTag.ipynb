{
  "nbformat": 4,
  "nbformat_minor": 0,
  "metadata": {
    "colab": {
      "name": "posTag.ipynb",
      "provenance": [],
      "toc_visible": true
    },
    "kernelspec": {
      "name": "python3",
      "display_name": "Python 3"
    }
  },
  "cells": [
    {
      "cell_type": "code",
      "metadata": {
        "id": "XnfMnAbOZDN_",
        "colab_type": "code",
        "colab": {}
      },
      "source": [
        "# Run, restart and then skip this\n",
        "# !python3 -m spacy download en_core_web_lg"
      ],
      "execution_count": 0,
      "outputs": []
    },
    {
      "cell_type": "code",
      "metadata": {
        "id": "SSxNW35GxWsB",
        "colab_type": "code",
        "colab": {}
      },
      "source": [
        "import nltk \n",
        "import pandas as pd\n",
        "import numpy as np\n",
        "import spacy\n",
        "import warnings\n",
        "import sklearn\n",
        "import pickle\n",
        "from sklearn.svm import SVC\n",
        "from sklearn import svm\n",
        "from sklearn.linear_model import SGDClassifier\n",
        "from sklearn.neural_network import MLPClassifier\n",
        "from sklearn.metrics import confusion_matrix\n",
        "warnings.filterwarnings('ignore')"
      ],
      "execution_count": 0,
      "outputs": []
    },
    {
      "cell_type": "code",
      "metadata": {
        "id": "gfzAZQlDySvQ",
        "colab_type": "code",
        "outputId": "1b070df0-a2aa-4322-99b1-76dc3166b34d",
        "colab": {
          "base_uri": "https://localhost:8080/",
          "height": 170
        }
      },
      "source": [
        "nltk.download('stopwords')\n",
        "nltk.download('punkt')\n",
        "nltk.download('averaged_perceptron_tagger')\n",
        "nltk.download('wordnet')\n",
        "nlp = spacy.load('en_core_web_lg')"
      ],
      "execution_count": 0,
      "outputs": [
        {
          "output_type": "stream",
          "text": [
            "[nltk_data] Downloading package stopwords to /root/nltk_data...\n",
            "[nltk_data]   Unzipping corpora/stopwords.zip.\n",
            "[nltk_data] Downloading package punkt to /root/nltk_data...\n",
            "[nltk_data]   Unzipping tokenizers/punkt.zip.\n",
            "[nltk_data] Downloading package averaged_perceptron_tagger to\n",
            "[nltk_data]     /root/nltk_data...\n",
            "[nltk_data]   Unzipping taggers/averaged_perceptron_tagger.zip.\n",
            "[nltk_data] Downloading package wordnet to /root/nltk_data...\n",
            "[nltk_data]   Unzipping corpora/wordnet.zip.\n"
          ],
          "name": "stdout"
        }
      ]
    },
    {
      "cell_type": "code",
      "metadata": {
        "id": "XA6uq5OVxYMw",
        "colab_type": "code",
        "colab": {}
      },
      "source": [
        "from nltk.corpus import stopwords, wordnet\n",
        "from nltk.tokenize import word_tokenize, sent_tokenize \n",
        "stop_words = set(stopwords.words('english')) \n",
        "from nltk import pos_tag"
      ],
      "execution_count": 0,
      "outputs": []
    },
    {
      "cell_type": "code",
      "metadata": {
        "id": "GvHQhw9xTS-F",
        "colab_type": "code",
        "colab": {}
      },
      "source": [
        "dfTrain = pd.read_csv(\"data/UTDallasSpecialFeatureCSV.csv\")\n",
        "dfTest = pd.read_csv(\"data/WinogradSpecialFeatureCSV.csv\")\n",
        "# dfTrainH = pd.read_csv(\"data/UTDallasCSV.csv\")\n",
        "# dfTestH = pd.read_csv(\"data/WinogradChallengeCSV.csv\")"
      ],
      "execution_count": 0,
      "outputs": []
    },
    {
      "cell_type": "code",
      "metadata": {
        "id": "IjLTAXS-ndQ4",
        "colab_type": "code",
        "outputId": "5bc9e9e3-c9df-4d2f-daee-5b850d98c64b",
        "colab": {
          "base_uri": "https://localhost:8080/",
          "height": 34
        }
      },
      "source": [
        "print(dfTrain.shape)"
      ],
      "execution_count": 0,
      "outputs": [
        {
          "output_type": "stream",
          "text": [
            "(1321, 6)\n"
          ],
          "name": "stdout"
        }
      ]
    },
    {
      "cell_type": "code",
      "metadata": {
        "id": "MsSF3NVXweZv",
        "colab_type": "code",
        "outputId": "d5d250b1-cdb4-4d0a-8c4a-27361605c219",
        "colab": {
          "base_uri": "https://localhost:8080/",
          "height": 589
        }
      },
      "source": [
        "dfTrain.head(100)"
      ],
      "execution_count": 0,
      "outputs": [
        {
          "output_type": "execute_result",
          "data": {
            "text/html": [
              "<div>\n",
              "<style scoped>\n",
              "    .dataframe tbody tr th:only-of-type {\n",
              "        vertical-align: middle;\n",
              "    }\n",
              "\n",
              "    .dataframe tbody tr th {\n",
              "        vertical-align: top;\n",
              "    }\n",
              "\n",
              "    .dataframe thead th {\n",
              "        text-align: right;\n",
              "    }\n",
              "</style>\n",
              "<table border=\"1\" class=\"dataframe\">\n",
              "  <thead>\n",
              "    <tr style=\"text-align: right;\">\n",
              "      <th></th>\n",
              "      <th>Question String</th>\n",
              "      <th>Pronoun</th>\n",
              "      <th>Split1</th>\n",
              "      <th>Split2</th>\n",
              "      <th>Option1</th>\n",
              "      <th>Option2</th>\n",
              "    </tr>\n",
              "  </thead>\n",
              "  <tbody>\n",
              "    <tr>\n",
              "      <th>0</th>\n",
              "      <td>The bee landed on the flower because it had po...</td>\n",
              "      <td>it</td>\n",
              "      <td>The bee landed on the flower because</td>\n",
              "      <td>it had pollen.</td>\n",
              "      <td>The bee</td>\n",
              "      <td>the flower</td>\n",
              "    </tr>\n",
              "    <tr>\n",
              "      <th>1</th>\n",
              "      <td>The bee landed on the flower because it wanted...</td>\n",
              "      <td>it</td>\n",
              "      <td>The bee landed on the flower because</td>\n",
              "      <td>it wanted pollen.</td>\n",
              "      <td>The bee</td>\n",
              "      <td>the flower</td>\n",
              "    </tr>\n",
              "    <tr>\n",
              "      <th>2</th>\n",
              "      <td>When Debbie splashed Tina, she got in trouble.</td>\n",
              "      <td>she</td>\n",
              "      <td>When Debbie splashed Tina,</td>\n",
              "      <td>she got in trouble.</td>\n",
              "      <td>Debbie</td>\n",
              "      <td>Tina</td>\n",
              "    </tr>\n",
              "    <tr>\n",
              "      <th>3</th>\n",
              "      <td>When Debbie splashed Tina, she got wet.</td>\n",
              "      <td>she</td>\n",
              "      <td>When Debbie splashed Tina,</td>\n",
              "      <td>she got wet.</td>\n",
              "      <td>Debbie</td>\n",
              "      <td>Tina</td>\n",
              "    </tr>\n",
              "    <tr>\n",
              "      <th>4</th>\n",
              "      <td>The bus driver yelled at a kid after she drove...</td>\n",
              "      <td>she</td>\n",
              "      <td>The bus driver yelled at a kid after</td>\n",
              "      <td>she drove her vehicle.</td>\n",
              "      <td>The bus driver</td>\n",
              "      <td>a kid</td>\n",
              "    </tr>\n",
              "    <tr>\n",
              "      <th>...</th>\n",
              "      <td>...</td>\n",
              "      <td>...</td>\n",
              "      <td>...</td>\n",
              "      <td>...</td>\n",
              "      <td>...</td>\n",
              "      <td>...</td>\n",
              "    </tr>\n",
              "    <tr>\n",
              "      <th>95</th>\n",
              "      <td>John flicked Bill because he had a fly on his ...</td>\n",
              "      <td>he</td>\n",
              "      <td>John flicked Bill because</td>\n",
              "      <td>he had a fly on his shirt.</td>\n",
              "      <td>John</td>\n",
              "      <td>Bill</td>\n",
              "    </tr>\n",
              "    <tr>\n",
              "      <th>96</th>\n",
              "      <td>The zombies chased the survivors because they ...</td>\n",
              "      <td>they</td>\n",
              "      <td>The zombies chased the survivors because</td>\n",
              "      <td>they were hungry.</td>\n",
              "      <td>The zombies</td>\n",
              "      <td>the survivors</td>\n",
              "    </tr>\n",
              "    <tr>\n",
              "      <th>97</th>\n",
              "      <td>The zombies chased the survivors because they ...</td>\n",
              "      <td>they</td>\n",
              "      <td>The zombies chased the survivors because</td>\n",
              "      <td>they were tasty.</td>\n",
              "      <td>The zombies</td>\n",
              "      <td>the survivors</td>\n",
              "    </tr>\n",
              "    <tr>\n",
              "      <th>98</th>\n",
              "      <td>Medvedev will cede the presidency to Putin bec...</td>\n",
              "      <td>he</td>\n",
              "      <td>Medvedev will cede the presidency to Putin bec...</td>\n",
              "      <td>he is more popular.</td>\n",
              "      <td>Medvedev</td>\n",
              "      <td>Putin</td>\n",
              "    </tr>\n",
              "    <tr>\n",
              "      <th>99</th>\n",
              "      <td>Medvedev will cede the presidency to Putin bec...</td>\n",
              "      <td>he</td>\n",
              "      <td>Medvedev will cede the presidency to Putin bec...</td>\n",
              "      <td>he is less popular.</td>\n",
              "      <td>Medvedev</td>\n",
              "      <td>Putin</td>\n",
              "    </tr>\n",
              "  </tbody>\n",
              "</table>\n",
              "<p>100 rows × 6 columns</p>\n",
              "</div>"
            ],
            "text/plain": [
              "                                      Question String  ...        Option2\n",
              "0   The bee landed on the flower because it had po...  ...     the flower\n",
              "1   The bee landed on the flower because it wanted...  ...     the flower\n",
              "2      When Debbie splashed Tina, she got in trouble.  ...           Tina\n",
              "3             When Debbie splashed Tina, she got wet.  ...           Tina\n",
              "4   The bus driver yelled at a kid after she drove...  ...          a kid\n",
              "..                                                ...  ...            ...\n",
              "95  John flicked Bill because he had a fly on his ...  ...           Bill\n",
              "96  The zombies chased the survivors because they ...  ...  the survivors\n",
              "97  The zombies chased the survivors because they ...  ...  the survivors\n",
              "98  Medvedev will cede the presidency to Putin bec...  ...          Putin\n",
              "99  Medvedev will cede the presidency to Putin bec...  ...          Putin\n",
              "\n",
              "[100 rows x 6 columns]"
            ]
          },
          "metadata": {
            "tags": []
          },
          "execution_count": 8
        }
      ]
    },
    {
      "cell_type": "code",
      "metadata": {
        "id": "zIZfHg_P7H3T",
        "colab_type": "code",
        "colab": {}
      },
      "source": [
        "def tokenizePhrase2(sent):\n",
        "  sent = nltk.word_tokenize(sent)\n",
        "  return sent"
      ],
      "execution_count": 0,
      "outputs": []
    },
    {
      "cell_type": "code",
      "metadata": {
        "id": "-0T1AeW48qKH",
        "colab_type": "code",
        "colab": {}
      },
      "source": [
        "li = (len(dfTrain))*[0]\n",
        "dfTrain['TokenP2'] = li\n",
        "dfTrain['TokenP2'] = dfTrain.apply(lambda x: tokenizePhrase2(str(x['Split2'])), axis = 1)\n",
        "li = (len(dfTest))*[0]\n",
        "dfTest['TokenP2'] = li\n",
        "dfTest['TokenP2'] = dfTest.apply(lambda x: tokenizePhrase2(str(x['Split2'])), axis = 1)"
      ],
      "execution_count": 0,
      "outputs": []
    },
    {
      "cell_type": "code",
      "metadata": {
        "id": "9LJesosiOwNN",
        "colab_type": "code",
        "outputId": "69fc6e31-f766-46fc-a929-78dbfb81ae42",
        "colab": {
          "base_uri": "https://localhost:8080/",
          "height": 34
        }
      },
      "source": [
        "print(pos_tag(dfTrain.iloc[0]['TokenP2']))"
      ],
      "execution_count": 0,
      "outputs": [
        {
          "output_type": "stream",
          "text": [
            "[('it', 'PRP'), ('had', 'VBD'), ('pollen', 'VBN'), ('.', '.')]\n"
          ],
          "name": "stdout"
        }
      ]
    },
    {
      "cell_type": "code",
      "metadata": {
        "id": "uA2AbgwyH-jQ",
        "colab_type": "code",
        "colab": {}
      },
      "source": [
        "def findPOSSim(choice, token):\n",
        "  tagged = pos_tag(token)\n",
        "  adj = []\n",
        "  verb = []\n",
        "  for tag in tagged:\n",
        "    if(tag[1][0] == 'V'):\n",
        "        verb.append(tag[0])\n",
        "    if(tag[1][0] == 'J'):\n",
        "        adj.append(tag[0])\n",
        "\n",
        "  aSim = 0\n",
        "  vSim = 0\n",
        "  for ad in adj:\n",
        "    aSim += nlp.vocab[choice].similarity(nlp.vocab[ad])\n",
        "  for vb in verb:\n",
        "    vSim += nlp.vocab[choice].similarity(nlp.vocab[vb])\n",
        "  # print(adj, verb)\n",
        "  # print(aSim, vSim)\n",
        "  return (aSim, vSim)"
      ],
      "execution_count": 0,
      "outputs": []
    },
    {
      "cell_type": "code",
      "metadata": {
        "id": "FQKrTmpIKdkL",
        "colab_type": "code",
        "colab": {}
      },
      "source": [
        "li = (len(dfTrain))*[0]\n",
        "dfTrain['Ch1AdSim'] = li\n",
        "dfTrain['Ch1VbSim'] = li\n",
        "dfTrain['Ch1AdSim'], dfTrain['Ch1VbSim'] = zip(*dfTrain.apply(lambda x: findPOSSim(x['Option1'], x['TokenP2']), axis = 1))\n",
        "\n",
        "li = (len(dfTrain))*[0]\n",
        "dfTrain['Ch2AdSim'] = li\n",
        "dfTrain['Ch2VbSim'] = li\n",
        "dfTrain['Ch2AdSim'], dfTrain['Ch2VbSim'] = zip(*dfTrain.apply(lambda x: findPOSSim(x['Option2'], x['TokenP2']), axis = 1))\n",
        "\n",
        "li = (len(dfTest))*[0]\n",
        "dfTest['Ch1AdSim'] = li\n",
        "dfTest['Ch1VbSim'] = li\n",
        "dfTest['Ch1AdSim'], dfTest['Ch1VbSim'] = zip(*dfTest.apply(lambda x: findPOSSim(x['Option1'], x['TokenP2']), axis = 1))\n",
        "\n",
        "li = (len(dfTest))*[0]\n",
        "dfTest['Ch2AdSim'] = li\n",
        "dfTest['Ch2VbSim'] = li\n",
        "dfTest['Ch2AdSim'], dfTest['Ch2VbSim'] = zip(*dfTest.apply(lambda x: findPOSSim(x['Option2'], x['TokenP2']), axis = 1))"
      ],
      "execution_count": 0,
      "outputs": []
    },
    {
      "cell_type": "code",
      "metadata": {
        "id": "cpcHvqRSrs8k",
        "colab_type": "code",
        "outputId": "4d7c03f8-c52d-4a5b-9a8c-9076803d6dc1",
        "colab": {
          "base_uri": "https://localhost:8080/",
          "height": 34
        }
      },
      "source": [
        "dfTest.shape"
      ],
      "execution_count": 0,
      "outputs": [
        {
          "output_type": "execute_result",
          "data": {
            "text/plain": [
              "(284, 11)"
            ]
          },
          "metadata": {
            "tags": []
          },
          "execution_count": 55
        }
      ]
    },
    {
      "cell_type": "code",
      "metadata": {
        "id": "WpnIXLSwrlLu",
        "colab_type": "code",
        "colab": {}
      },
      "source": [
        "dfTrainGender = pd.read_csv(\"data/UTDallasCSVGenderFeature.csv\")\n",
        "dfTestGender = pd.read_csv(\"data/WinogradChallengeCSVGenderFeature.csv\")"
      ],
      "execution_count": 0,
      "outputs": []
    },
    {
      "cell_type": "code",
      "metadata": {
        "id": "wObdewT1vyS_",
        "colab_type": "code",
        "outputId": "a70cd1cc-d5cc-4bc2-8a1f-9fd6416a8528",
        "colab": {
          "base_uri": "https://localhost:8080/",
          "height": 68
        }
      },
      "source": [
        "dfTrainGender.columns"
      ],
      "execution_count": 0,
      "outputs": [
        {
          "output_type": "execute_result",
          "data": {
            "text/plain": [
              "Index(['Knowledge Base', 'Question', 'Option 1', 'Option 2', 'Actual Answer',\n",
              "       'Bit Representation', 'Opt1GenderFeature', 'Opt2GenderFeature'],\n",
              "      dtype='object')"
            ]
          },
          "metadata": {
            "tags": []
          },
          "execution_count": 86
        }
      ]
    },
    {
      "cell_type": "code",
      "metadata": {
        "id": "iKhYwOAYvjGw",
        "colab_type": "code",
        "colab": {}
      },
      "source": [
        "trGendOpt1 = []\n",
        "trGendOpt2 = []\n",
        "YTrain = []\n",
        "cnt = 0\n",
        "for i, r in dfTrainGender.iterrows():\n",
        "  if(cnt%2 == 0):\n",
        "    trGendOpt1.append(r.Opt1GenderFeature)\n",
        "    trGendOpt2.append(r.Opt2GenderFeature)\n",
        "    YTrain.append(r['Option 2'])\n",
        "  cnt += 1\n",
        "\n",
        "YTest = []\n",
        "cnt = 0\n",
        "teGendOpt1 = []\n",
        "teGendOpt2 = []\n",
        "for i, r in dfTestGender.iterrows():\n",
        "  if(cnt%2 == 0):\n",
        "    teGendOpt1.append(r.Opt1Gender)\n",
        "    teGendOpt2.append(r.Opt2Gender)\n",
        "    YTest.append(r['Bit Representation'])\n",
        "  cnt += 1"
      ],
      "execution_count": 0,
      "outputs": []
    },
    {
      "cell_type": "code",
      "metadata": {
        "id": "q5knM9NIwa6E",
        "colab_type": "code",
        "outputId": "f0fc3885-9333-4629-ce70-4f7e955ef49c",
        "colab": {
          "base_uri": "https://localhost:8080/",
          "height": 34
        }
      },
      "source": [
        "len(YTrain)"
      ],
      "execution_count": 0,
      "outputs": [
        {
          "output_type": "execute_result",
          "data": {
            "text/plain": [
              "1321"
            ]
          },
          "metadata": {
            "tags": []
          },
          "execution_count": 70
        }
      ]
    },
    {
      "cell_type": "code",
      "metadata": {
        "id": "j0c-Ufb8r_Dc",
        "colab_type": "code",
        "colab": {}
      },
      "source": [
        "with open(\"data/bestPred.pkl\", \"rb\") as fp:\n",
        "  predTest = pickle.load(fp)\n",
        "\n",
        "with open(\"data/bestPredTrain.pkl\", \"rb\") as fp:\n",
        "  predTrain = pickle.load(fp)"
      ],
      "execution_count": 0,
      "outputs": []
    },
    {
      "cell_type": "code",
      "metadata": {
        "id": "6h4d3ifDvP4-",
        "colab_type": "code",
        "outputId": "7ff119f7-9699-4ced-be01-d3d652d61217",
        "colab": {
          "base_uri": "https://localhost:8080/",
          "height": 34
        }
      },
      "source": [
        "len(predTrain)"
      ],
      "execution_count": 0,
      "outputs": [
        {
          "output_type": "execute_result",
          "data": {
            "text/plain": [
              "1321"
            ]
          },
          "metadata": {
            "tags": []
          },
          "execution_count": 54
        }
      ]
    },
    {
      "cell_type": "code",
      "metadata": {
        "id": "tXfhpw6Ls_ae",
        "colab_type": "code",
        "colab": {}
      },
      "source": [
        "XTrain = np.matrix([predTrain, trGendOpt1, trGendOpt2, dfTrain['Ch2AdSim'], dfTrain['Ch2VbSim'], dfTrain['Ch1AdSim'], dfTrain['Ch1VbSim']]).T\n",
        "XTest = np.matrix([predTest, teGendOpt1, teGendOpt2, dfTest['Ch2AdSim'], dfTest['Ch2VbSim'], dfTest['Ch1AdSim'], dfTest['Ch1VbSim']]).T"
      ],
      "execution_count": 0,
      "outputs": []
    },
    {
      "cell_type": "code",
      "metadata": {
        "id": "6zErORBKyaln",
        "colab_type": "code",
        "outputId": "56f3ae5a-f00d-41f3-9bf6-05d1d5ec256a",
        "colab": {
          "base_uri": "https://localhost:8080/",
          "height": 34
        }
      },
      "source": [
        "print(XTrain.shape, XTest.shape)"
      ],
      "execution_count": 0,
      "outputs": [
        {
          "output_type": "stream",
          "text": [
            "(1321, 7) (284, 7)\n"
          ],
          "name": "stdout"
        }
      ]
    },
    {
      "cell_type": "code",
      "metadata": {
        "id": "85SYNvNGyt6c",
        "colab_type": "code",
        "outputId": "2838c547-e819-4067-de76-485164b53441",
        "colab": {
          "base_uri": "https://localhost:8080/",
          "height": 34
        }
      },
      "source": [
        "CLF = MLPClassifier(max_iter=10000, alpha=0.001, warm_start=True)\n",
        "_ = CLF.fit(XTrain, YTrain)\n",
        "print('Training Complete')"
      ],
      "execution_count": 0,
      "outputs": [
        {
          "output_type": "stream",
          "text": [
            "Training Complete\n"
          ],
          "name": "stdout"
        }
      ]
    },
    {
      "cell_type": "code",
      "metadata": {
        "id": "l3cd6VkEy5AT",
        "colab_type": "code",
        "colab": {}
      },
      "source": [
        "prediction_result = CLF.predict(XTest)"
      ],
      "execution_count": 0,
      "outputs": []
    },
    {
      "cell_type": "code",
      "metadata": {
        "id": "SqrDRIrX0H1n",
        "colab_type": "code",
        "outputId": "686093b1-10d0-40f9-b0b9-d9e4f6ac7f0f",
        "colab": {
          "base_uri": "https://localhost:8080/",
          "height": 34
        }
      },
      "source": [
        "# Accuracy\n",
        "np.mean(prediction_result == YTest)"
      ],
      "execution_count": 0,
      "outputs": [
        {
          "output_type": "execute_result",
          "data": {
            "text/plain": [
              "0.6232394366197183"
            ]
          },
          "metadata": {
            "tags": []
          },
          "execution_count": 138
        }
      ]
    },
    {
      "cell_type": "code",
      "metadata": {
        "id": "rSdttVyPy_Qt",
        "colab_type": "code",
        "outputId": "5db84bda-c719-4cfa-efad-b4d94e655d55",
        "colab": {
          "base_uri": "https://localhost:8080/",
          "height": 51
        }
      },
      "source": [
        "cm = confusion_matrix(prediction_result, YTest)\n",
        "cm"
      ],
      "execution_count": 0,
      "outputs": [
        {
          "output_type": "execute_result",
          "data": {
            "text/plain": [
              "array([[84, 48],\n",
              "       [59, 93]])"
            ]
          },
          "metadata": {
            "tags": []
          },
          "execution_count": 124
        }
      ]
    }
  ]
}